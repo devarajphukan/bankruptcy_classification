{
 "cells": [
  {
   "cell_type": "markdown",
   "metadata": {},
   "source": [
    "# Importing required packages"
   ]
  },
  {
   "cell_type": "code",
   "execution_count": 295,
   "metadata": {},
   "outputs": [],
   "source": [
    "import pandas as pd\n",
    "from sklearn.preprocessing import StandardScaler\n",
    "from sklearn.decomposition import PCA\n",
    "import numpy as np\n",
    "import matplotlib.pyplot as plt\n",
    "from sklearn.pipeline import make_pipeline\n",
    "from sklearn.model_selection import GridSearchCV, KFold, train_test_split\n",
    "from sklearn.metrics import f1_score, roc_auc_score, roc_curve\n",
    "from sklearn.linear_model import LogisticRegression\n",
    "from sklearn.ensemble import RandomForestClassifier, GradientBoostingClassifier\n",
    "from sklearn.impute import KNNImputer"
   ]
  },
  {
   "cell_type": "markdown",
   "metadata": {},
   "source": [
    "# Read data"
   ]
  },
  {
   "cell_type": "code",
   "execution_count": 170,
   "metadata": {},
   "outputs": [
    {
     "data": {
      "text/plain": [
       "(10503, 65)"
      ]
     },
     "execution_count": 170,
     "metadata": {},
     "output_type": "execute_result"
    }
   ],
   "source": [
    "data = pd.read_csv('bankruptcy.csv')\n",
    "data.head()\n",
    "data.shape"
   ]
  },
  {
   "cell_type": "markdown",
   "metadata": {},
   "source": [
    "# Check null/NA Values"
   ]
  },
  {
   "cell_type": "code",
   "execution_count": 171,
   "metadata": {},
   "outputs": [
    {
     "data": {
      "text/plain": [
       "Attr37    4736\n",
       "Attr21     807\n",
       "Attr27     715\n",
       "Attr60     592\n",
       "Attr45     591\n",
       "Attr28     228\n",
       "Attr53     228\n",
       "Attr54     228\n",
       "Attr64     228\n",
       "Attr24     227\n",
       "dtype: int64"
      ]
     },
     "execution_count": 171,
     "metadata": {},
     "output_type": "execute_result"
    }
   ],
   "source": [
    "data.isnull().sum().nlargest(10)"
   ]
  },
  {
   "cell_type": "markdown",
   "metadata": {},
   "source": [
    "# Impute Missing Values using KNNImputer"
   ]
  },
  {
   "cell_type": "code",
   "execution_count": 178,
   "metadata": {},
   "outputs": [],
   "source": [
    "imputer = KNNImputer(n_neighbors=10, weights=\"uniform\")\n",
    "data_impute = data.drop('class', axis = 1)\n",
    "imputed_data = imputer.fit_transform(data_impute)\n",
    "imputed_data_df = pd.DataFrame(imputed_data, index=data_impute.index, columns=data_impute.columns)"
   ]
  },
  {
   "cell_type": "code",
   "execution_count": 186,
   "metadata": {},
   "outputs": [
    {
     "data": {
      "text/plain": [
       "Attr1     0\n",
       "Attr2     0\n",
       "Attr3     0\n",
       "Attr4     0\n",
       "Attr5     0\n",
       "         ..\n",
       "Attr61    0\n",
       "Attr62    0\n",
       "Attr63    0\n",
       "Attr64    0\n",
       "class     0\n",
       "Length: 65, dtype: int64"
      ]
     },
     "execution_count": 186,
     "metadata": {},
     "output_type": "execute_result"
    }
   ],
   "source": [
    "data = pd.concat([imputed_data_df, data['class']], axis = 1)\n",
    "data.isnull().sum()"
   ]
  },
  {
   "cell_type": "markdown",
   "metadata": {},
   "source": [
    "# Split data in features and labels"
   ]
  },
  {
   "cell_type": "code",
   "execution_count": 235,
   "metadata": {},
   "outputs": [],
   "source": [
    "label_column = 'class'\n",
    "feature_columns = [c for c in data.columns if c != label_column]\n",
    "X = data[feature_columns]\n",
    "y = [int(v.replace(\"b\",\"\").replace(\"'\",\"\")) for v in data[label_column].values]"
   ]
  },
  {
   "cell_type": "markdown",
   "metadata": {},
   "source": [
    "#### The data set is not balanced, observartions of class 1, i.e bankruptcy is significantly lesser than class 0."
   ]
  },
  {
   "cell_type": "code",
   "execution_count": 244,
   "metadata": {},
   "outputs": [
    {
     "data": {
      "text/plain": [
       "<matplotlib.axes._subplots.AxesSubplot at 0x7f2fb1d87970>"
      ]
     },
     "execution_count": 244,
     "metadata": {},
     "output_type": "execute_result"
    },
    {
     "data": {
      "image/png": "[encoded data removed]",
      "text/plain": [
       "<Figure size 432x288 with 1 Axes>"
      ]
     },
     "metadata": {
      "needs_background": "light"
     },
     "output_type": "display_data"
    }
   ],
   "source": [
    "pd.Series(y).value_counts().plot(kind='bar')"
   ]
  },
  {
   "cell_type": "markdown",
   "metadata": {},
   "source": [
    "# Oversampling the data using SMOTE"
   ]
  },
  {
   "cell_type": "markdown",
   "metadata": {},
   "source": [
    "#### To balance out the dataset, oversample the minority class with varaitions to be equal to the majority class"
   ]
  },
  {
   "cell_type": "code",
   "execution_count": 189,
   "metadata": {},
   "outputs": [],
   "source": [
    "from imblearn.over_sampling import SMOTE\n",
    "oversample = SMOTE()\n",
    "X_over_sampled, y_over_sampled = oversample.fit_resample(X, y)"
   ]
  },
  {
   "cell_type": "code",
   "execution_count": 243,
   "metadata": {},
   "outputs": [
    {
     "data": {
      "text/plain": [
       "<matplotlib.axes._subplots.AxesSubplot at 0x7f2fb5303730>"
      ]
     },
     "execution_count": 243,
     "metadata": {},
     "output_type": "execute_result"
    },
    {
     "data": {
      "image/png": "[encoded data removed]",
      "text/plain": [
       "<Figure size 432x288 with 1 Axes>"
      ]
     },
     "metadata": {
      "needs_background": "light"
     },
     "output_type": "display_data"
    }
   ],
   "source": [
    "pd.Series(y_over_sampled).value_counts().plot(kind='bar')"
   ]
  },
  {
   "cell_type": "markdown",
   "metadata": {},
   "source": [
    "## Create a hold out validation set to use after model selection "
   ]
  },
  {
   "cell_type": "code",
   "execution_count": 198,
   "metadata": {},
   "outputs": [],
   "source": [
    "from sklearn.model_selection import train_test_split\n",
    "X_train, X_holdout_test, y_train, y_holdout_test = train_test_split(X_over_sampled, y_over_sampled, \n",
    "                                                                    test_size=0.20, random_state=42)"
   ]
  },
  {
   "cell_type": "code",
   "execution_count": 245,
   "metadata": {},
   "outputs": [
    {
     "data": {
      "text/plain": [
       "(16012, 64)"
      ]
     },
     "execution_count": 245,
     "metadata": {},
     "output_type": "execute_result"
    }
   ],
   "source": [
    "X_train.shape"
   ]
  },
  {
   "cell_type": "code",
   "execution_count": 246,
   "metadata": {},
   "outputs": [
    {
     "data": {
      "text/plain": [
       "(4004, 64)"
      ]
     },
     "execution_count": 246,
     "metadata": {},
     "output_type": "execute_result"
    }
   ],
   "source": [
    "X_holdout_test.shape"
   ]
  },
  {
   "cell_type": "markdown",
   "metadata": {},
   "source": [
    "# Model Selection Using AUC-ROC score"
   ]
  },
  {
   "cell_type": "code",
   "execution_count": 272,
   "metadata": {},
   "outputs": [],
   "source": [
    "X_tv, X_test, y_tv, y_test = train_test_split(X_train, y_train)\n",
    "\n",
    "models = [\n",
    "    {\n",
    "        'name': 'Random Forest',\n",
    "        'model': RandomForestClassifier(),\n",
    "        'params': {\n",
    "            'n_estimators': [10, 50, 200]\n",
    "        }\n",
    "    },\n",
    "    {\n",
    "        'name': 'Logistic Regression',\n",
    "        'model': LogisticRegression(max_iter=10000),\n",
    "        'params': {\n",
    "            'C': np.logspace(-2, 0, 10)\n",
    "        }\n",
    "    },\n",
    "    {\n",
    "        'name': 'Gradient Boosting Classifier',\n",
    "        'model': GradientBoostingClassifier(),\n",
    "        'params': {\n",
    "            'learning_rate': np.logspace(-2, 0, 3)\n",
    "        }\n",
    "    }\n",
    "]\n",
    "\n",
    "kfold = KFold(n_splits=5, shuffle=True)\n",
    "\n",
    "for m in models:\n",
    "    pipeline = make_pipeline(\n",
    "        StandardScaler(),\n",
    "        GridSearchCV(\n",
    "            estimator=m['model'],\n",
    "            param_grid=m['params'],\n",
    "            scoring='roc_auc',\n",
    "            n_jobs=-1,\n",
    "            cv=kfold\n",
    "        )\n",
    "    )\n",
    "    \n",
    "    pipeline.fit(X_tv, y_tv)\n",
    "    predictions = pipeline.predict(X_test)\n",
    "    m['score'] = roc_auc_score(y_test, predictions, average='micro')\n",
    "    m['pipeline'] = pipeline"
   ]
  },
  {
   "cell_type": "code",
   "execution_count": 273,
   "metadata": {},
   "outputs": [
    {
     "name": "stdout",
     "output_type": "stream",
     "text": [
      "Model: Random Forest: score = 0.9731\n",
      "Model: Logistic Regression: score = 0.7044\n",
      "Model: Gradient Boosting Classifier: score = 0.9607\n"
     ]
    }
   ],
   "source": [
    "for m in models:\n",
    "    print(f\"Model: {m['name']}: score = {m['score']:.4f}\")"
   ]
  },
  {
   "cell_type": "markdown",
   "metadata": {},
   "source": [
    "# The best model selected is Random Forest "
   ]
  },
  {
   "cell_type": "code",
   "execution_count": 274,
   "metadata": {},
   "outputs": [],
   "source": [
    "selected_model = RandomForestClassifier(n_estimators=200)\n",
    "pipeline = make_pipeline(StandardScaler(), selected_model)"
   ]
  },
  {
   "cell_type": "markdown",
   "metadata": {},
   "source": [
    "## How does the selected model perform on holdout data"
   ]
  },
  {
   "cell_type": "code",
   "execution_count": 276,
   "metadata": {},
   "outputs": [
    {
     "data": {
      "image/png": "[encoded data removed]",
      "text/plain": [
       "<Figure size 432x288 with 1 Axes>"
      ]
     },
     "metadata": {
      "needs_background": "light"
     },
     "output_type": "display_data"
    }
   ],
   "source": [
    "pipeline.fit(X_train, y_train)\n",
    "predicitions = pipeline.predict(X_holdout_test)\n",
    "\n",
    "fpr, tpr, _ = roc_curve(y_holdout_test, predicitions)\n",
    "auc = roc_auc_score(y_holdout_test, predicitions)\n",
    "plt.plot(fpr,tpr,label=\"Random Forest, auc=\"+str(auc))\n",
    "plt.legend(loc=4)\n",
    "plt.show()"
   ]
  },
  {
   "cell_type": "markdown",
   "metadata": {},
   "source": [
    "# Feature Importance"
   ]
  },
  {
   "cell_type": "code",
   "execution_count": 277,
   "metadata": {},
   "outputs": [
    {
     "data": {
      "text/plain": [
       "<matplotlib.axes._subplots.AxesSubplot at 0x7f2fb1ba83a0>"
      ]
     },
     "execution_count": 277,
     "metadata": {},
     "output_type": "execute_result"
    },
    {
     "data": {
      "image/png": "[encoded data removed]",
      "text/plain": [
       "<Figure size 720x360 with 1 Axes>"
      ]
     },
     "metadata": {
      "needs_background": "light"
     },
     "output_type": "display_data"
    }
   ],
   "source": [
    "plt.subplots(figsize = (10,5))\n",
    "feature_importances = pd.Series(selected_model.feature_importances_, index=X_train.columns)\n",
    "feature_importances.sort_values(ascending=False,inplace=True)\n",
    "feature_importances.nlargest(50).plot(kind='bar')"
   ]
  },
  {
   "cell_type": "markdown",
   "metadata": {},
   "source": [
    "### Parsing the meaning of features from text file"
   ]
  },
  {
   "cell_type": "code",
   "execution_count": 278,
   "metadata": {},
   "outputs": [],
   "source": [
    "features_dict = {}\n",
    "with open(\"features.txt\") as f:\n",
    "    for line in f:\n",
    "        feature_key = line.split(\" \", 1)[0].replace(\"X\", \"Attr\")\n",
    "        feature_name = line.split(\" \", 1)[1]\n",
    "        features_dict[feature_key] = feature_name"
   ]
  },
  {
   "cell_type": "markdown",
   "metadata": {},
   "source": [
    "## Getting the meanings of top n features "
   ]
  },
  {
   "cell_type": "code",
   "execution_count": 288,
   "metadata": {},
   "outputs": [
    {
     "name": "stdout",
     "output_type": "stream",
     "text": [
      "1. retained earnings / total assets: 0.0532\n",
      "2. gross profit (in 3 years) / total assets: 0.0426\n",
      "3. profit on operating activities / financial expenses: 0.0425\n",
      "4. (net profit + depreciation) / total liabilities: 0.0372\n",
      "5. (gross profit + depreciation) / total liabilities: 0.0317\n",
      "6. (equity - share capital) / total assets: 0.0285\n",
      "7. (gross profit + depreciation) / sales: 0.0274\n",
      "8. constant capital / total assets: 0.0263\n",
      "9. (current assets - inventories) / long-term liabilities: 0.0259\n",
      "10. operating expenses / total liabilities: 0.0237\n",
      "11. profit on sales / sales: 0.0235\n",
      "12. [(cash + short-term securities + receivables - short-term liabilities) / (operating expenses - depreciation)] * 365: 0.0216\n",
      "13. (current assets - inventory) / short-term liabilities: 0.0195\n",
      "14. long-term liabilities / equity: 0.0190\n",
      "15. total costs /total sales: 0.0190\n",
      "16. sales / fixed assets: 0.0179\n",
      "17. gross profit / short-term liabilities: 0.0164\n",
      "18. logarithm of total assets: 0.0164\n",
      "19. working capital: 0.0159\n",
      "20. (total liabilities * 365) / (gross profit + depreciation): 0.0159\n"
     ]
    }
   ],
   "source": [
    "n_top_features = 20\n",
    "\n",
    "top_n_feature_names = [features_dict[f].strip() for f in feature_importances.nlargest(n_top_features).index]\n",
    "top_n_features = dict(zip(top_n_feature_names, feature_importances.nlargest(n_top_features)))\n",
    "\n",
    "counter = 1\n",
    "for i in top_n_features.keys():\n",
    "    print(f\"{counter}. {i}: {top_n_features[i]:.4f}\")\n",
    "    counter += 1"
   ]
  },
  {
   "cell_type": "markdown",
   "metadata": {},
   "source": [
    "#### From the feature importance plot, we can observe that around top 20 features contribute mainly. We can further verify this using PCA"
   ]
  },
  {
   "cell_type": "markdown",
   "metadata": {},
   "source": [
    "# Principal Component Analysis"
   ]
  },
  {
   "cell_type": "code",
   "execution_count": 292,
   "metadata": {},
   "outputs": [
    {
     "name": "stdout",
     "output_type": "stream",
     "text": [
      "8 principal components define 99.0% of the variance\n"
     ]
    }
   ],
   "source": [
    "percentage_variance_explained = 0.99\n",
    "\n",
    "pca_pipeline = make_pipeline(StandardScaler(), PCA(percentage_variance_explained)) \n",
    "pca_pipeline.fit_transform(X_over_sampled)\n",
    "\n",
    "print(f\"{pca.n_components_} principal components define {percentage_variance_explained * 100}% of the variance\")"
   ]
  },
  {
   "cell_type": "markdown",
   "metadata": {},
   "source": [
    "## train a model on the top n features"
   ]
  },
  {
   "cell_type": "code",
   "execution_count": 296,
   "metadata": {},
   "outputs": [
    {
     "name": "stdout",
     "output_type": "stream",
     "text": [
      "Using top 20 features\n"
     ]
    }
   ],
   "source": [
    "pipeline.fit(X_train[feature_importances.nlargest(n_top_features).index], y_train)\n",
    "top_n_model_predicitions = pipeline.predict(X_holdout_test[feature_importances.nlargest(n_top_features).index])\n",
    "print(f\"Using top {n_top_features} features\")"
   ]
  },
  {
   "cell_type": "markdown",
   "metadata": {},
   "source": [
    "## Model performance on top n features"
   ]
  },
  {
   "cell_type": "code",
   "execution_count": 297,
   "metadata": {
    "scrolled": true
   },
   "outputs": [
    {
     "data": {
      "image/png": "[encoded data removed]",
      "text/plain": [
       "<Figure size 432x288 with 1 Axes>"
      ]
     },
     "metadata": {
      "needs_background": "light"
     },
     "output_type": "display_data"
    }
   ],
   "source": [
    "fpr, tpr, _ = roc_curve(y_holdout_test, top_n_model_predicitions)\n",
    "auc = roc_auc_score(y_holdout_test, top_n_model_predicitions)\n",
    "plt.plot(fpr,tpr,label=\"Random Forest, auc=\"+str(auc))\n",
    "plt.legend(loc=4)\n",
    "plt.show()"
   ]
  }
 ],
 "metadata": {
  "kernelspec": {
   "display_name": "Python 3",
   "language": "python",
   "name": "python3"
  },
  "language_info": {
   "codemirror_mode": {
    "name": "ipython",
    "version": 3
   },
   "file_extension": ".py",
   "mimetype": "text/x-python",
   "name": "python",
   "nbconvert_exporter": "python",
   "pygments_lexer": "ipython3",
   "version": "3.8.3"
  }
 },
 "nbformat": 4,
 "nbformat_minor": 4
}
